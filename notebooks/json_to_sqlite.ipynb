{
 "cells": [
  {
   "cell_type": "code",
   "execution_count": 1,
   "metadata": {},
   "outputs": [],
   "source": [
    "import sqlite3\n",
    "import pandas as pd\n",
    "import os"
   ]
  },
  {
   "cell_type": "code",
   "execution_count": 6,
   "metadata": {},
   "outputs": [],
   "source": [
    "def get_wiki_dump_paths(path):\n",
    "    \n",
    "    dump_files = []\n",
    "    for dirName, subdirList, fileList in os.walk(path):\n",
    "#         print('Found directory: %s' % dirName)\n",
    "        for fname in fileList:\n",
    "#             print('\\t%s' % fname)\n",
    "            dump_files.append(dirName + '/' + fname)\n",
    "    \n",
    "    return sorted(dump_files)"
   ]
  },
  {
   "cell_type": "code",
   "execution_count": 7,
   "metadata": {},
   "outputs": [],
   "source": [
    "wiki_paths = get_wiki_dump_paths(\"data\")"
   ]
  },
  {
   "cell_type": "code",
   "execution_count": 8,
   "metadata": {},
   "outputs": [
    {
     "data": {
      "text/plain": [
       "['data/AA/wiki_00',\n",
       " 'data/AA/wiki_01',\n",
       " 'data/AA/wiki_02',\n",
       " 'data/AA/wiki_03',\n",
       " 'data/AA/wiki_04',\n",
       " 'data/AA/wiki_05',\n",
       " 'data/AA/wiki_06',\n",
       " 'data/AA/wiki_07',\n",
       " 'data/AA/wiki_08',\n",
       " 'data/AA/wiki_09',\n",
       " 'data/AA/wiki_10',\n",
       " 'data/AA/wiki_11',\n",
       " 'data/AA/wiki_12',\n",
       " 'data/AA/wiki_13',\n",
       " 'data/AA/wiki_14',\n",
       " 'data/AA/wiki_15',\n",
       " 'data/AA/wiki_16',\n",
       " 'data/AA/wiki_17',\n",
       " 'data/AA/wiki_18',\n",
       " 'data/AA/wiki_19',\n",
       " 'data/AA/wiki_20',\n",
       " 'data/AA/wiki_21',\n",
       " 'data/AA/wiki_22',\n",
       " 'data/AA/wiki_23',\n",
       " 'data/AA/wiki_24',\n",
       " 'data/AA/wiki_25',\n",
       " 'data/AA/wiki_26',\n",
       " 'data/AA/wiki_27',\n",
       " 'data/AA/wiki_28',\n",
       " 'data/AA/wiki_29',\n",
       " 'data/AA/wiki_30',\n",
       " 'data/AA/wiki_31',\n",
       " 'data/AA/wiki_32',\n",
       " 'data/AA/wiki_33',\n",
       " 'data/AA/wiki_34',\n",
       " 'data/AA/wiki_35',\n",
       " 'data/AA/wiki_36',\n",
       " 'data/AA/wiki_37',\n",
       " 'data/AA/wiki_38',\n",
       " 'data/AA/wiki_39',\n",
       " 'data/AA/wiki_40',\n",
       " 'data/AA/wiki_41',\n",
       " 'data/AA/wiki_42',\n",
       " 'data/AA/wiki_43',\n",
       " 'data/AA/wiki_44',\n",
       " 'data/AA/wiki_45',\n",
       " 'data/AA/wiki_46',\n",
       " 'data/AA/wiki_47',\n",
       " 'data/AA/wiki_48',\n",
       " 'data/AA/wiki_49',\n",
       " 'data/AA/wiki_50',\n",
       " 'data/AA/wiki_51',\n",
       " 'data/AA/wiki_52',\n",
       " 'data/AA/wiki_53',\n",
       " 'data/AA/wiki_54',\n",
       " 'data/AA/wiki_55',\n",
       " 'data/AA/wiki_56',\n",
       " 'data/AA/wiki_57',\n",
       " 'data/AA/wiki_58',\n",
       " 'data/AA/wiki_59',\n",
       " 'data/AA/wiki_60',\n",
       " 'data/AA/wiki_61',\n",
       " 'data/AA/wiki_62',\n",
       " 'data/AA/wiki_63',\n",
       " 'data/AA/wiki_64',\n",
       " 'data/AA/wiki_65',\n",
       " 'data/AA/wiki_66',\n",
       " 'data/AA/wiki_67',\n",
       " 'data/AA/wiki_68',\n",
       " 'data/AA/wiki_69',\n",
       " 'data/AA/wiki_70',\n",
       " 'data/AA/wiki_71',\n",
       " 'data/AA/wiki_72',\n",
       " 'data/AA/wiki_73',\n",
       " 'data/AA/wiki_74',\n",
       " 'data/AA/wiki_75',\n",
       " 'data/AA/wiki_76',\n",
       " 'data/AA/wiki_77',\n",
       " 'data/AA/wiki_78',\n",
       " 'data/AA/wiki_79',\n",
       " 'data/AA/wiki_80',\n",
       " 'data/AA/wiki_81',\n",
       " 'data/AA/wiki_82',\n",
       " 'data/AA/wiki_83',\n",
       " 'data/AA/wiki_84',\n",
       " 'data/AA/wiki_85',\n",
       " 'data/AA/wiki_86',\n",
       " 'data/AA/wiki_87',\n",
       " 'data/AA/wiki_88',\n",
       " 'data/AA/wiki_89',\n",
       " 'data/AA/wiki_90',\n",
       " 'data/AA/wiki_91',\n",
       " 'data/AA/wiki_92',\n",
       " 'data/AA/wiki_93',\n",
       " 'data/AA/wiki_94',\n",
       " 'data/AA/wiki_95',\n",
       " 'data/AA/wiki_96',\n",
       " 'data/AA/wiki_97',\n",
       " 'data/AA/wiki_98',\n",
       " 'data/AA/wiki_99',\n",
       " 'data/AB/wiki_00',\n",
       " 'data/AB/wiki_01',\n",
       " 'data/AB/wiki_02',\n",
       " 'data/AB/wiki_03',\n",
       " 'data/AB/wiki_04',\n",
       " 'data/AB/wiki_05',\n",
       " 'data/AB/wiki_06',\n",
       " 'data/AB/wiki_07',\n",
       " 'data/AB/wiki_08',\n",
       " 'data/AB/wiki_09',\n",
       " 'data/AB/wiki_10',\n",
       " 'data/AB/wiki_11',\n",
       " 'data/AB/wiki_12',\n",
       " 'data/AB/wiki_13',\n",
       " 'data/AB/wiki_14',\n",
       " 'data/AB/wiki_15',\n",
       " 'data/AB/wiki_16',\n",
       " 'data/AB/wiki_17',\n",
       " 'data/AB/wiki_18',\n",
       " 'data/AB/wiki_19',\n",
       " 'data/AB/wiki_20',\n",
       " 'data/AB/wiki_21',\n",
       " 'data/AB/wiki_22',\n",
       " 'data/AB/wiki_23',\n",
       " 'data/AB/wiki_24',\n",
       " 'data/AB/wiki_25',\n",
       " 'data/AB/wiki_26',\n",
       " 'data/AB/wiki_27',\n",
       " 'data/AB/wiki_28',\n",
       " 'data/AB/wiki_29']"
      ]
     },
     "execution_count": 8,
     "metadata": {},
     "output_type": "execute_result"
    }
   ],
   "source": [
    "wiki_paths"
   ]
  },
  {
   "cell_type": "code",
   "execution_count": 9,
   "metadata": {},
   "outputs": [],
   "source": [
    "conn = sqlite3.connect(\"wiki.db\")"
   ]
  },
  {
   "cell_type": "code",
   "execution_count": 10,
   "metadata": {},
   "outputs": [],
   "source": [
    "c = conn.cursor()"
   ]
  },
  {
   "cell_type": "code",
   "execution_count": 11,
   "metadata": {},
   "outputs": [
    {
     "data": {
      "text/plain": [
       "<sqlite3.Cursor at 0x7f508e0686c0>"
      ]
     },
     "execution_count": 11,
     "metadata": {},
     "output_type": "execute_result"
    }
   ],
   "source": [
    "c.execute('CREATE TABLE wiki (id INTEGER PRIMARY KEY, text TEXT, title TEXT, url TEXT)')"
   ]
  },
  {
   "cell_type": "code",
   "execution_count": 12,
   "metadata": {},
   "outputs": [],
   "source": [
    "conn.commit()"
   ]
  },
  {
   "cell_type": "code",
   "execution_count": 14,
   "metadata": {},
   "outputs": [
    {
     "name": "stdout",
     "output_type": "stream",
     "text": [
      "data/AA/wiki_00\n",
      "data/AA/wiki_01\n",
      "data/AA/wiki_02\n",
      "data/AA/wiki_03\n",
      "data/AA/wiki_04\n",
      "data/AA/wiki_05\n",
      "data/AA/wiki_06\n",
      "data/AA/wiki_07\n",
      "data/AA/wiki_08\n",
      "data/AA/wiki_09\n",
      "data/AA/wiki_10\n",
      "data/AA/wiki_11\n",
      "data/AA/wiki_12\n",
      "data/AA/wiki_13\n",
      "data/AA/wiki_14\n",
      "data/AA/wiki_15\n",
      "data/AA/wiki_16\n",
      "data/AA/wiki_17\n",
      "data/AA/wiki_18\n",
      "data/AA/wiki_19\n",
      "data/AA/wiki_20\n",
      "data/AA/wiki_21\n",
      "data/AA/wiki_22\n",
      "data/AA/wiki_23\n",
      "data/AA/wiki_24\n",
      "data/AA/wiki_25\n",
      "data/AA/wiki_26\n",
      "data/AA/wiki_27\n",
      "data/AA/wiki_28\n",
      "data/AA/wiki_29\n",
      "data/AA/wiki_30\n",
      "data/AA/wiki_31\n",
      "data/AA/wiki_32\n",
      "data/AA/wiki_33\n",
      "data/AA/wiki_34\n",
      "data/AA/wiki_35\n",
      "data/AA/wiki_36\n",
      "data/AA/wiki_37\n",
      "data/AA/wiki_38\n",
      "data/AA/wiki_39\n",
      "data/AA/wiki_40\n",
      "data/AA/wiki_41\n",
      "data/AA/wiki_42\n",
      "data/AA/wiki_43\n",
      "data/AA/wiki_44\n",
      "data/AA/wiki_45\n",
      "data/AA/wiki_46\n",
      "data/AA/wiki_47\n",
      "data/AA/wiki_48\n",
      "data/AA/wiki_49\n",
      "data/AA/wiki_50\n",
      "data/AA/wiki_51\n",
      "data/AA/wiki_52\n",
      "data/AA/wiki_53\n",
      "data/AA/wiki_54\n",
      "data/AA/wiki_55\n",
      "data/AA/wiki_56\n",
      "data/AA/wiki_57\n",
      "data/AA/wiki_58\n",
      "data/AA/wiki_59\n",
      "data/AA/wiki_60\n",
      "data/AA/wiki_61\n",
      "data/AA/wiki_62\n",
      "data/AA/wiki_63\n",
      "data/AA/wiki_64\n",
      "data/AA/wiki_65\n",
      "data/AA/wiki_66\n",
      "data/AA/wiki_67\n",
      "data/AA/wiki_68\n",
      "data/AA/wiki_69\n",
      "data/AA/wiki_70\n",
      "data/AA/wiki_71\n",
      "data/AA/wiki_72\n",
      "data/AA/wiki_73\n",
      "data/AA/wiki_74\n",
      "data/AA/wiki_75\n",
      "data/AA/wiki_76\n",
      "data/AA/wiki_77\n",
      "data/AA/wiki_78\n",
      "data/AA/wiki_79\n",
      "data/AA/wiki_80\n",
      "data/AA/wiki_81\n",
      "data/AA/wiki_82\n",
      "data/AA/wiki_83\n",
      "data/AA/wiki_84\n",
      "data/AA/wiki_85\n",
      "data/AA/wiki_86\n",
      "data/AA/wiki_87\n",
      "data/AA/wiki_88\n",
      "data/AA/wiki_89\n",
      "data/AA/wiki_90\n",
      "data/AA/wiki_91\n",
      "data/AA/wiki_92\n",
      "data/AA/wiki_93\n",
      "data/AA/wiki_94\n",
      "data/AA/wiki_95\n",
      "data/AA/wiki_96\n",
      "data/AA/wiki_97\n",
      "data/AA/wiki_98\n",
      "data/AA/wiki_99\n",
      "data/AB/wiki_00\n",
      "data/AB/wiki_01\n",
      "data/AB/wiki_02\n",
      "data/AB/wiki_03\n",
      "data/AB/wiki_04\n",
      "data/AB/wiki_05\n",
      "data/AB/wiki_06\n",
      "data/AB/wiki_07\n",
      "data/AB/wiki_08\n",
      "data/AB/wiki_09\n",
      "data/AB/wiki_10\n",
      "data/AB/wiki_11\n",
      "data/AB/wiki_12\n",
      "data/AB/wiki_13\n",
      "data/AB/wiki_14\n",
      "data/AB/wiki_15\n",
      "data/AB/wiki_16\n",
      "data/AB/wiki_17\n",
      "data/AB/wiki_18\n",
      "data/AB/wiki_19\n",
      "data/AB/wiki_20\n",
      "data/AB/wiki_21\n",
      "data/AB/wiki_22\n",
      "data/AB/wiki_23\n",
      "data/AB/wiki_24\n",
      "data/AB/wiki_25\n",
      "data/AB/wiki_26\n",
      "data/AB/wiki_27\n",
      "data/AB/wiki_28\n",
      "data/AB/wiki_29\n"
     ]
    }
   ],
   "source": [
    "for i in range(0, len(wiki_paths)):\n",
    "    print(wiki_paths[i])\n",
    "    docs = pd.read_json(wiki_paths[i], lines=True)\n",
    "    docs = docs.values\n",
    "    c.executemany('INSERT INTO wiki VALUES(?, ?, ?, ?)', docs)\n",
    "    conn.commit()"
   ]
  },
  {
   "cell_type": "code",
   "execution_count": 40,
   "metadata": {},
   "outputs": [],
   "source": [
    "c.execute('SELECT * FROM wiki where id = \"43568\"')\n",
    "res = c.fetchone()"
   ]
  },
  {
   "cell_type": "code",
   "execution_count": 41,
   "metadata": {},
   "outputs": [
    {
     "data": {
      "text/plain": [
       "'Tom Hanks\\n\\nThomas Jeffrey Hanks (born July 9, 1956) is an American actor and filmmaker. Hanks is known for his comedic and dramatic roles in such films as \"Splash\" (1984), \"Big\" (1988), \"Turner & Hooch\" (1989), \"A League of Their Own\" (1992), \"Sleepless in Seattle\" (1993), \"Apollo 13\" (1995), \"You\\'ve Got Mail\" (1998), \"The Green Mile\" (1999), \"Cast Away\" (2000), \"Road to Perdition\" (2002), \"Cloud Atlas\" (2012), \"Captain Phillips\" (2013), \"Saving Mr. Banks\" (2013), and \"Sully\" (2016). He has also starred in the \"Robert Langdon\" film series, and voices Sheriff Woody in the \"Toy Story\" film series.\\n\\nHanks has collaborated with film director Steven Spielberg on five films to date: \"Saving Private Ryan\" (1998), \"Catch Me If You Can\" (2002), \"The Terminal\" (2004), \"Bridge of Spies\" (2015), and \"The Post\" (2017), as well as the 2001 miniseries \"Band of Brothers\", which launched Hanks as a successful director, producer, and screenwriter. In 2010, Spielberg and Hanks were executive producers on the HBO miniseries \"The Pacific\".\\n\\nHanks\\' films have grossed more than $4.6\\xa0billion at U.S. and Canadian box offices and more than $9.2\\xa0billion worldwide, making him the fourth highest-grossing actor in North America. Hanks has been nominated for numerous awards during his career. He won a Golden Globe Award and an Academy Award for Best Actor for his role in \"Philadelphia\" (1993), as well as a Golden Globe, an Academy Award, a Screen Actors Guild Award, and a People\\'s Choice Award for Best Actor for \"Forrest Gump\" (1994). In 1995, Hanks became one of only two actors who won the Academy Award for Best Actor in consecutive years, with Spencer Tracy being the other. In 2004, he received the Stanley Kubrick Britannia Award for Excellence in Film from the British Academy of Film and Television Arts (BAFTA). In 2014, he received a Kennedy Center Honor, and in 2016, he received a Presidential Medal of Freedom from President Barack Obama, as well as the French Legion of Honor.\\n\\nThomas Jeffrey Hanks was born in Concord, California on July 9, 1956, to hospital worker Janet Marylyn (\"née\" Frager) and itinerant cook Amos Mefford Hanks. His mother was of Portuguese descent (her family\\'s surname was originally \"Fraga\"), while his father had English ancestry. His parents divorced in 1960. Their three oldest children, Sandra (later Sandra Hanks Benoiton, a writer), Larry (an entomology professor at the University of Illinois at Urbana–Champaign), and Tom, went with their father, while the youngest, Jim (who also became an actor and filmmaker), remained with their mother in Red Bluff, California. In his childhood, Hanks\\' family moved often; by the age of 10, he had lived in 10 different houses.\\n\\nWhile Hanks\\' family religious history was Catholic and Mormon, he has characterized his teenage self as being a \"Bible-toting evangelical\" for several years. In school, he was unpopular with students and teachers alike, later telling \"Rolling Stone\" magazine, \"I was a geek, a spaz. I was horribly, painfully, terribly shy. At the same time, I was the guy who\\'d yell out funny captions during filmstrips. But I didn\\'t get into trouble. I was always a real good kid and pretty responsible.\" In 1965, his father married Frances Wong, a San Francisco native of Chinese descent. Frances had three children, two of whom lived with Hanks during his high school years. Hanks acted in school plays, including \"South Pacific\", while attending Skyline High School in Oakland, California.\\n\\nHanks studied theater at Chabot College in Hayward, California, and transferred to California State University, Sacramento, two years later. During a 2001 interview with Bob Costas, Hanks was asked whether he would rather have an Oscar or a Heisman Trophy. He replied he would rather win a Heisman by playing halfback for the California Golden Bears. He told \"New York\" magazine in 1986, \"Acting classes looked like the best place for a guy who liked to make a lot of noise and be rather flamboyant. I spent a lot of time going to plays. I wouldn\\'t take dates with me. I\\'d just drive to a theater, buy myself a ticket, sit in the seat and read the program, and then get into the play completely. I spent a lot of time like that, seeing Brecht, Tennessee Williams, Ibsen, and all that.\"\\n\\nDuring his years studying theater, Hanks met Vincent Dowling, head of the Great Lakes Theater Festival in Cleveland, Ohio. At Dowling\\'s suggestion, Hanks became an intern at the festival. His internship stretched into a three-year experience that covered most aspects of theater production, including lighting, set design, and stage management, prompting Hanks to drop out of college. During the same time, Hanks won the Cleveland Critics Circle Award for Best Actor for his 1978 performance as Proteus in Shakespeare\\'s \"The Two Gentlemen of Verona\", one of the few times he played a villain. \"Time\" magazine named Hanks one of the \"Top 10 College Dropouts.\"\\n\\nIn 1979, Hanks moved to New York City, where he made his film debut in the low-budget slasher film \"He Knows You\\'re Alone\" (1980) and landed a starring role in the television movie \"Mazes and Monsters\". Early that year, he was cast in the lead, Callimaco, in the Riverside Shakespeare Company\\'s production of Niccolò Machiavelli\\'s \"The Mandrake\", directed by Daniel Southern. The following year, Hanks landed one of the lead roles, that of character Kip Wilson, on the ABC television pilot of \"Bosom Buddies\". He and Peter Scolari played a pair of young advertising men forced to dress as women so they could live in an inexpensive all-female hotel. Hanks had previously partnered with Scolari on the 1970s game show \"Make Me Laugh\". After landing the role, Hanks moved to Los Angeles. \"Bosom Buddies\" ran for two seasons, and, although the ratings were never strong, television critics gave the program high marks. \"The first day I saw him on the set,\" co-producer Ian Praiser told \"Rolling Stone\", \"I thought, \\'Too bad he won\\'t be in television for long.\\' I knew he\\'d be a movie star in two years.\" However, although Praiser knew it, he was not able to convince Hanks. \"The television show had come out of nowhere,\" Hanks\\' best friend Tom Lizzio told \"Rolling Stone\".\\n\\n\"Bosom Buddies\" and a guest appearance on a 1982 episode of \"Happy Days\" (\"A Case of Revenge,\" in which he played a disgruntled former classmate of Fonzie) prompted director Ron Howard to contact Hanks. Howard was working on the film \"Splash\" (1984), a romantic comedy fantasy about a mermaid who falls in love with a human. At first, Howard considered Hanks for the role of the main character\\'s wisecracking brother, a role that eventually went to John Candy. Instead, Hanks landed the lead role in \"Splash\", which went on to become a surprise box office hit, grossing more than US$69\\xa0million. He also had a sizable hit with the sex comedy \"Bachelor Party\", also in 1984. In 1983–84, Hanks made three guest appearances on \"Family Ties\" as Elyse Keaton\\'s alcoholic brother, Ned Donnelly.\\n\\nWith \"Nothing in Common\" (1986)\\xa0– a story of a young man alienated from his father (played by Jackie Gleason)\\xa0– Hanks began to extend himself from comedic roles to dramatic roles. In an interview with \"Rolling Stone\" magazine, Hanks commented on his experience: \"It changed my desires about working in movies. Part of it was the nature of the material, what we were trying to say. But besides that, it focused on people\\'s relationships. The story was about a guy and his father, unlike, say, \"The Money Pit\", where the story is really about a guy and his house.\"\\nAfter a few more flops and a moderate success with the comedy \"Dragnet\", Hanks\\' stature in the film industry rose. The broad success of the fantasy comedy \"Big\" (1988) established Hanks as a major Hollywood talent, both as a box office draw and within the industry as an actor. For his performance in the film, Hanks earned his first nomination for the Academy Award for Best Actor. \"Big\" was followed later that year by \"Punchline\", in which he and Sally Field co-starred as struggling comedians.\\n\\nHanks then suffered a run of box-office underperformers: \"The \\'Burbs\" (1989), \"Joe Versus the Volcano\" (1990), and \"The Bonfire of the Vanities\" (1990). In the last, he portrayed a greedy Wall Street figure who gets enmeshed in a hit-and-run accident. 1989\\'s \"Turner & Hooch\" was Hanks\\' only financially successful film of the period.\\n\\nHanks climbed back to the top again with his portrayal of a washed-up baseball legend turned manager in \"A League of Their Own\" (1992). Hanks has stated that his acting in earlier roles was not great, but that he subsequently improved. In an interview with \"Vanity Fair\", Hanks noted his \"\"modern era of moviemaking\\xa0... because enough self-discovery has gone on\\xa0... My work has become less pretentiously fake and over the top\"\". This \"modern era\" began in 1993 for Hanks, first with \"Sleepless in Seattle\" and then with \"Philadelphia\". The former was a blockbuster success about a widower who finds true love over the radio airwaves. Richard Schickel of \"TIME\" called his performance \"charming,\" and most critics agreed that Hanks\\' portrayal ensured him a place among the premier romantic-comedy stars of his generation.\\n\\nIn \"Philadelphia\", he played a gay lawyer with AIDS who sues his firm for discrimination. Hanks lost 35 pounds and thinned his hair in order to appear sickly for the role. In a review for \"People\", Leah Rozen stated, \"Above all, credit for \"Philadelphia\"s success belongs to Hanks, who makes sure that he plays a character, not a saint. He is flat-out terrific, giving a deeply felt, carefully nuanced performance that deserves an Oscar.\" Hanks won the 1993 Academy Award for Best Actor for his role in \"Philadelphia\". During his acceptance speech, he revealed that his high school drama teacher Rawley Farnsworth and former classmate John Gilkerson, two people with whom he was close, were gay.\\n\\nHanks followed \"Philadelphia\" with the 1994 hit \"Forrest Gump\" which grossed a worldwide total of over $600\\xa0million at the box office. Hanks remarked: \"When I read the script for \"Gump\", I saw it as one of those kind of grand, hopeful movies that the audience can go to and feel\\xa0... some hope for their lot and their position in life\\xa0... I got that from the movies a hundred million times when I was a kid. I still do.\" Hanks won his second Best Actor Academy Award for his role in \"Forrest Gump\", becoming only the second actor to have accomplished the feat of winning consecutive Best Actor Oscars. (Spencer Tracy was the first, winning in 1937–38. Hanks and Tracy were the same age at the time they received their Academy Awards: 37 for the first and 38 for the second.)\\n\\nHanks\\' next role—astronaut and commander Jim Lovell, in the 1995 film \"Apollo 13\"—reunited him with Ron Howard. Critics generally applauded the film and the performances of the entire cast, which included actors Kevin Bacon, Bill Paxton, Gary Sinise, Ed Harris, and Kathleen Quinlan. The movie also earned nine Academy Award nominations, winning two. Later that year, Hanks starred in Disney/Pixar\\'s CGI-animated hit film \"Toy Story\", as the voice of Sheriff Woody.\\nHanks made his directing debut with his 1996 film \"That Thing You Do!\" about a 1960s pop group, also playing the role of a music producer. Hanks and producer Gary Goetzman went on to create Playtone, a record and film production company named after the record company in the film.\\n\\nHanks then executive produced, co-wrote, and co-directed the HBO docudrama \"From the Earth to the Moon\". The 12-part series chronicled the space program from its inception, through the familiar flights of Neil Armstrong and Jim Lovell, to the personal feelings surrounding the reality of moon landings. The Emmy Award-winning project was, at US$68\\xa0million, one of the most expensive ventures undertaken for television.\\n\\nIn 1998, Hanks\\' next project was no less expensive. For \"Saving Private Ryan\", he teamed up with Steven Spielberg to make a film about a search through war-torn France after D-Day to bring back a soldier. It earned the praise and respect of the film community, critics, and the general public. It was labeled one of the finest war films ever made and earned Spielberg his second Academy Award for direction, and Hanks another Best Actor nomination. Later that year, Hanks re-teamed with his \"Sleepless in Seattle\" co-star Meg Ryan for \"You\\'ve Got Mail\", a remake of 1940\\'s \"The Shop Around the Corner\". In 1999, Hanks starred in an adaptation of the Stephen King novel \"The Green Mile\". He also returned as the voice of Woody in \"Toy Story 2\", the sequel to \"Toy Story\". The following year, he won a Golden Globe for Best Actor and an Academy Award nomination for his portrayal of a marooned FedEx systems analyst in Robert Zemeckis\\'s \"Cast Away\".\\n\\nIn 2001, Hanks helped direct and produce the Emmy-Award-winning HBO miniseries \"Band of Brothers\". He also appeared in the September 11 television special \"\" and the documentary \"Rescued From the Closet\". He then teamed up with \"American Beauty\" director Sam Mendes for the adaptation of Max Allan Collins\\'s and Richard Piers Rayner\\'s graphic novel \"Road to Perdition\", in which he played an anti-hero role as a hitman on the run with his son. That same year, Hanks collaborated once again with director Spielberg, starring opposite Leonardo DiCaprio in the hit biographical crime drama \"Catch Me If You Can\", based on the true story of Frank Abagnale, Jr. The same year, Hanks and his wife Rita Wilson produced the hit movie \"My Big Fat Greek Wedding\". In August 2007, he along with co-producers Rita Wilson and Gary Goetzman, and writer and star Nia Vardalos, initiated a legal action against the production company Gold Circle Films for their share of profits from the movie. At the age of 45, Hanks became the youngest-ever recipient of the American Film Institute\\'s Life Achievement Award on June 12, 2002.\\nIn 2004, he appeared in three films: The Coen brothers\\' \"The Ladykillers\", another Spielberg film, \"The Terminal\", and \"The Polar Express\", a family film from Zemeckis for which Hanks played multiple motion capture roles. In a \"USA Weekend\" interview, Hanks discussed how he chooses projects: \"[Since] \"A League of Their Own\", it can\\'t be just another movie for me. It has to get me going somehow\\xa0... There has to be some all-encompassing desire or feeling about wanting to do that particular movie. I\\'d like to assume that I\\'m willing to go down any avenue in order to do it right\". In August 2005, Hanks was voted in as vice president of the Academy of Motion Picture Arts and Sciences.\\n\\nHanks next starred in the highly anticipated film \"The Da Vinci Code\", based on the best-selling novel by Dan Brown. The film was released May 19, 2006, in the U.S. and grossed over US$750\\xa0million worldwide. He followed the film with Ken Burns\\'s 2007 documentary \"The War\". For the documentary, Hanks did voice work, reading excerpts from World War II-era columns by Al McIntosh. In 2006, Hanks topped a 1,500-strong list of \"most trusted celebrities\" compiled by \"Forbes\" magazine. Hanks also produced the animated children\\'s movie The Ant Bully in 2006.\\n\\nHanks next appeared in a cameo role as himself in \"The Simpsons Movie\", in which he appeared in an advertisement claiming that the U.S. government has lost its credibility and is hence buying some of his. He also made an appearance in the credits, expressing a desire to be left alone when he is out in public. Later in 2006, Hanks produced the British film \"Starter for Ten\", a comedy based on working-class students attempting to win on \"University Challenge\".\\n\\nIn 2007, Hanks starred in Mike Nichols\\'s film \"Charlie Wilson\\'s War\" (written by screenwriter Aaron Sorkin) in which he played Democratic Texas Congressman Charles Wilson. The film opened on December 21, 2007, and Hanks received a Golden Globe nomination. In the comedy-drama film \"The Great Buck Howard\" (2008), Hanks played the on-screen father of a young man (played by Hanks\\' real-life son, Colin) who chooses to work as road manager for a fading mentalist (John Malkovich). His character was less than thrilled about his son\\'s career decision. In the same year, he executive produced the musical comedy, \"Mamma Mia\" and the miniseries, \"John Adams\".\\n\\nHanks\\' next endeavor, released on May 15, 2009, was a film adaptation of \"Angels & Demons\", based on the novel of the same name by Dan Brown. Its April 11, 2007, announcement revealed that Hanks would reprise his role as Robert Langdon, and that he would reportedly receive the highest salary ever for an actor. The following day he made his 10th appearance on NBC\\'s \"Saturday Night Live\", impersonating himself for the \"Celebrity Jeopardy\" sketch. Hanks produced the Spike Jonze film \"Where The Wild Things Are\", based on the children\\'s book by Maurice Sendak in 2009.\\n\\nIn 2010, Hanks reprised his voice role of Woody in \"Toy Story 3\", after he, Tim Allen, and John Ratzenberger were invited to a movie theater to see a complete story reel of the movie. The film went on to become the first animated film to gross a worldwide total of over $1\\xa0billion as well as the highest-grossing animated film at the time. He also was executive producer of the miniseries, \"The Pacific\".\\n\\nIn 2011, he directed and starred opposite Julia Roberts in the title role in the romantic comedy \"Larry Crowne\". The movie received poor reviews, with only 35% of the 175 Rotten Tomatoes reviews giving it high ratings. Also in 2011, he starred in the drama film \"Extremely Loud and Incredibly Close\". In 2012, he voiced the character Cleveland Carr for a web series he created titled \"Electric City\". He also starred in the Wachowskis-directed film adaptation of the novel of the same name, \"Cloud Atlas\" and was executive producer of the miniseries \"Game Change\".\\n\\nIn 2013, Hanks starred in two critically acclaimed films—\"Captain Phillips \"and\" Saving Mr. Banks—\"which each earned him praise, including nominations for the BAFTA Award for Best Actor in a Leading Role and the Golden Globe Award for Best Actor\\xa0– Motion Picture Drama for the former role. In \"Captain Phillips\", he starred as Captain Richard Phillips with Barkhad Abdi, which was based on the Maersk Alabama hijacking. In \"Saving Mr. Banks\", co-starring Emma Thompson and directed by John Lee Hancock, he played Walt Disney, being the first actor to portray Disney in a mainstream film. That same year, Hanks made his Broadway debut, starring in Nora Ephron\\'s \"Lucky Guy\", for which he was nominated for the Tony Award for Best Actor in a Play.\\n\\nIn 2014, Hanks\\' short story \"Alan Bean Plus Four\" was published in the October 27 issue of \"The New Yorker\". Revolving around four friends who make a voyage to the moon, the short story is titled after the Apollo 12 astronaut Alan Bean. \"Slate\" magazine\\'s Katy Waldman found Hanks\\' first published short story \"mediocre\", writing that \"Hanks\\' shopworn ideas about technology might have yet sung if they hadn\\'t been wrapped in too-clever lit mag-ese\". In an interview with \"The New Yorker\", Hanks said he has always been fascinated by space. He told the magazine that he built plastic models of rockets when he was a child and watched live broadcasts of space missions back in the 1960s.\\n\\nIn March 2015, Hanks appeared in the Carly Rae Jepsen music video for \"I Really Like You\", lip-syncing most of the song\\'s lyrics as he goes through his daily routine. His next film was the Steven Spielberg-directed historical drama \"Bridge of Spies\", in which he played lawyer James B. Donovan who negotiated for the release of pilot Francis Gary Powers by the Soviet Union in exchange for KGB spy Rudolf Abel. It was released in October 2015 to a positive reception. In April 2016, Hanks starred as Alan Clay in the comedy-drama \"A Hologram for the King\", an adaptation of the 2012 novel of the same name. Its the second time he was directed by Tom Tykwer after Cloud Atlas in 2012.\\n\\nHanks starred as airline captain Chesley Sullenberger in Clint Eastwood\\'s \"Sully\", which was released in September 2016. He next reprised his role as Robert Langdon in \"Inferno\" (2016), and co-starred alongside Emma Watson in the 2017 science fiction drama \"The Circle\". He voiced David S. Pumpkins in \"The David S. Pumpkins Animated Halloween Special\", which aired October 28, 2017, on NBC, a character he had portrayed in episodes of \"Saturday Night Live\".\\n\\nHanks will reprise his voice role as Sheriff Woody in Pixar\\'s \"Toy Story 4\", set for release on June 21, 2019. Then, Hanks will portray Fred Rogers in Marielle Heller\\'s biographical film \"A Beautiful Day in the Neighborhood\". The film will be released on November 22, 2019, by Sony Pictures. Hanks will then star as Commander Ernest Krause in \"Greyhound\", a war film to be directed by Aaron Schneider. The film is slated for release on May 8, 2020, by Sony Pictures. \\n\\nIn October 2017, Hanks signed on to star as Finch, the last surviving man on Earth, in the science fiction drama \"Bios\". Principal production will commence in February 2019. The film is set to be released on October 2, 2020 by Universal Pictures.\\n\\nHBO confirmed in January 2013 that it was developing a third World War II miniseries based on the book \"Masters of the Air\" by Donald L. Miller with Hanks and Spielberg to follow \"Band of Brothers\" and \"The Pacific\". Few details have emerged about the project since, but \"NME\" reported in March 2017 that production was progressing under the working title \"The Mighty Eighth\".\\n\\nHanks was married to American actress Samantha Lewes from 1978. They had one son, actor Colin Hanks (born 1977), and one daughter, Elizabeth Hanks (born 1982).\\n\\nIn 1981, Hanks met actress Rita Wilson on the set of TV comedy \"Bosom Buddies\" (1980–1982). They were reunited in 1985 on the set of \"Volunteers\".\\n\\nHanks and Samantha Lewes divorced in 1987.\\n\\nHanks married Wilson in 1988. They have two sons. The oldest, Chester Marlon \"Chet\" Hanks, had a minor role as a student in \"Indiana Jones and the Kingdom of the Crystal Skull\" and released a rap song in 2011. Their youngest, Truman Theodore, was born in 1995.\\n\\nBefore marrying Wilson, Hanks converted to the Greek Orthodox Church, the religion of Wilson and her family. He said, \"I must say that when I go to church—and I do go to church—I ponder the mystery. I meditate on the \\'why?\\' of \\'why people are as they are\\' and \\'why bad things happen to good people,\\' and \\'why good things happen to bad people\\'\\xa0... The mystery is what I think is, almost, the grand unifying theory of all mankind.\"\\n\\nOn October 7, 2013, on \"The Late Show with David Letterman\", Hanks announced that he has Type 2 diabetes.\\n\\nHanks supports same-sex marriage, environmental causes, and alternative fuels. He has donated to many Democratic politicians, and during the 2008 United States presidential election uploaded a video to his MySpace account endorsing Barack Obama. He also narrated a 2012 documentary, \"The Road We\\'ve Traveled,\" created by Obama for America. In 2016, Hanks endorsed Hillary Clinton in the 2016 presidential election.\\n\\nHanks was outspoken about his opposition to the 2008 Proposition 8, an amendment to the California constitution that defined marriage as a union only between a man and a woman. Hanks and others raised over US$44\\xa0million to campaign against the proposition, in contrast to the supporters\\' $39\\xa0million, but Proposition 8 passed with 52% of the vote. It was overruled in June 2013, when the Ninth Circuit lifted its stay of the district court\\'s ruling, enabling Governor Jerry Brown to order same-sex marriage officiations to resume. While premiering a TV series in January 2009, Hanks called supporters of Proposition 8 \"un-American\" and criticized the LDS Church members, who were major proponents of the bill, for their views on marriage and role in supporting the bill. About a week later, he apologized for the remark, saying that nothing is more American than voting one\\'s conscience.\\n\\nA proponent of environmentalism, Hanks is an investor in electric vehicles and owns a Toyota RAV4 EV and the first production AC Propulsion eBox. He was a lessee of an EV1 before it was recalled, as chronicled in the documentary \"Who Killed the Electric Car?\" He was on the waiting list for an Aptera 2 Series.\\n\\nHanks serves as campaign chair of the Hidden Heroes Campaign of the Elizabeth Dole Foundation. The stated mission of the campaign is to inspire a national movement to more effectively support the military and veteran caregivers.\\n\\nIn 2004, while touring the White House, Hanks learned that the press corps did not have a coffee pot, and shortly thereafter he donated an espresso machine. He again donated new machines in 2010 and 2017. His 2017 donation was accompanied by a note that read \"To the White House Press Corps, Keep up the good fight for Truth, Justice, and the American Way. Especially for the truth part.\"\\n\\nA supporter of NASA\\'s manned space program, Hanks said he originally wanted to be an astronaut. Hanks is a member of the National Space Society, serving on the Board of governors of the nonprofit educational space advocacy organization founded by Wernher von Braun. He also produced the HBO miniseries \"From the Earth to the Moon\" about the Apollo program to send astronauts to the moon. In addition, Hanks co-wrote and co-produced \"\", an IMAX film about the moon landings. Hanks provided the voice-over for the premiere of the show \"Passport to the Universe\" at the Rose Center for Earth and Space in the Hayden Planetarium at the American Museum of Natural History in New York.\\n\\nIn 2006, the Space Foundation awarded Hanks the Douglas S. Morrow Public Outreach Award, given annually to an individual or organization that has made significant contributions to public awareness of space programs.\\n\\nIn June 2006, Hanks was inducted as an honorary member of the United States Army Rangers Hall of Fame for his accurate portrayal of a captain in the movie \"Saving Private Ryan\"; Hanks, who was unable to attend the induction ceremony, was the first actor to receive such an honor. In addition to his role in \"Saving Private Ryan\", Hanks was cited for serving as the national spokesperson for the World War II Memorial Campaign, for being the honorary chairperson of the D-Day Museum Capital Campaign, and for his role in writing and helping to produce the Emmy Award–winning miniseries, \"Band of Brothers\". On March 10, 2008, Hanks was on hand at the Rock and Roll Hall of Fame to induct The Dave Clark Five.\\n\\nHanks is a collector of manual typewriters and uses them almost daily. In August 2014, Hanks released Hanx Writer, an iOS app meant to emulate the experience of using a typewriter; within days the free app reached number one on the App Store.\\n\\nIn November 2014, Hanks said he would publish a collection of short stories inspired by his typewriter collection. The book, \"Uncommon Type\", was published in 2017.\\n\\nHanks is perceived to be amiable and congenial to his fans. He has frequently been referred to as \"America\\'s Dad\". In 2013, when he was starring in Nora Ephron\\'s \"Lucky Guy\" on Broadway, he had crowds of 300 fans waiting for a glimpse of him after every performance. This is the highest number of expectant fans post-show of any Broadway performance.\\n\\nHanks is ranked as the fourth highest all-time box office star in North America, with a total gross of over $4.5\\xa0billion at the North American box office, an average of $100.8\\xa0million per film. Worldwide, his films have grossed over $9.0\\xa0billion.\\n\\nAsteroid is named after him.\\n\\nAs of January 2019, Hanks is currently voted #1 on Ranker\\'s \"The Best Actors in Film History\".\\n\\n\\n\\n'"
      ]
     },
     "execution_count": 41,
     "metadata": {},
     "output_type": "execute_result"
    }
   ],
   "source": [
    "print)res[1]"
   ]
  },
  {
   "cell_type": "code",
   "execution_count": null,
   "metadata": {},
   "outputs": [],
   "source": []
  }
 ],
 "metadata": {
  "kernelspec": {
   "display_name": "Python 3",
   "language": "python",
   "name": "python3"
  },
  "language_info": {
   "codemirror_mode": {
    "name": "ipython",
    "version": 3
   },
   "file_extension": ".py",
   "mimetype": "text/x-python",
   "name": "python",
   "nbconvert_exporter": "python",
   "pygments_lexer": "ipython3",
   "version": "3.6.7"
  }
 },
 "nbformat": 4,
 "nbformat_minor": 2
}
