{
 "cells": [
  {
   "cell_type": "markdown",
   "metadata": {},
   "source": [
    "For document retrieval , perform elastic search to find which words are present in which document. Also create frequency of words in each document and perform TF-ID to get the best document. Also use n-grams to get all possibilities"
   ]
  }
 ],
 "metadata": {
  "kernelspec": {
   "display_name": "Python 3",
   "language": "python",
   "name": "python3"
  },
  "language_info": {
   "codemirror_mode": {
    "name": "ipython",
    "version": 3
   },
   "file_extension": ".py",
   "mimetype": "text/x-python",
   "name": "python",
   "nbconvert_exporter": "python",
   "pygments_lexer": "ipython3",
   "version": "3.6.4"
  }
 },
 "nbformat": 4,
 "nbformat_minor": 2
}
